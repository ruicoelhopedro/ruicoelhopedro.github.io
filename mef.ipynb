{
 "cells": [
  {
   "cell_type": "markdown",
   "id": "0fbe07ad",
   "metadata": {},
   "source": [
    "# Finite Element Method - Beam Problem"
   ]
  },
  {
   "cell_type": "code",
   "execution_count": null,
   "id": "4e7e8212",
   "metadata": {},
   "outputs": [],
   "source": [
    "import numpy as np"
   ]
  },
  {
   "cell_type": "markdown",
   "id": "811f209a",
   "metadata": {},
   "source": [
    "## Define problem properties\n",
    "Set Young's modulus $E$, moment of inertia $I_z$ of section and element sizes $a_1$ and $a_2$"
   ]
  },
  {
   "cell_type": "code",
   "execution_count": null,
   "id": "51044d8c",
   "metadata": {},
   "outputs": [],
   "source": [
    "E = 210e9\n",
    "Iz = 20e-6\n",
    "a1 = 1.25\n",
    "a2 = 2.5"
   ]
  },
  {
   "cell_type": "markdown",
   "id": "34919644",
   "metadata": {},
   "source": [
    "## Elemental stiffness matrices\n"
   ]
  },
  {
   "cell_type": "markdown",
   "id": "440f2781",
   "metadata": {},
   "source": [
    "$\\left[K_e\\right]=\\dfrac{EI_z}{2a^3}\\left[\\begin{array}{cccc}3 & 3a & -3 & 3a \\\\ 3a & 4a^2 & -3a & 2a^2 \\\\ -3 & -3a & 3 & -3a \\\\ 3a & 2a^2 & -3a & 4a^2 \\end{array}\\right]$"
   ]
  },
  {
   "cell_type": "code",
   "execution_count": null,
   "id": "9f1c5a32",
   "metadata": {},
   "outputs": [],
   "source": [
    "Ke1 = E * Iz / (2 * a1**3) * np.array([[   3,    3*a1,    -3,    3*a1],\n",
    "                                       [3*a1, 4*a1**2, -3*a1, 2*a1**2],\n",
    "                                       [  -3,   -3*a1,     3,   -3*a1],\n",
    "                                       [3*a1, 2*a1**2, -3*a1, 4*a1**2]])\n",
    "\n",
    "Ke2 = E * Iz / (2 * a2**3) * np.array([[   3,    3*a2,    -3,    3*a2],\n",
    "                                       [3*a2, 4*a2**2, -3*a2, 2*a2**2],\n",
    "                                       [  -3,   -3*a2,     3,   -3*a2],\n",
    "                                       [3*a2, 2*a2**2, -3*a2, 4*a2**2]])"
   ]
  },
  {
   "cell_type": "code",
   "execution_count": null,
   "id": "6d7862d7",
   "metadata": {},
   "outputs": [],
   "source": [
    "Ke1, Ke2"
   ]
  },
  {
   "cell_type": "markdown",
   "id": "74f7d570",
   "metadata": {},
   "source": [
    "### Elemental force vectors"
   ]
  },
  {
   "cell_type": "code",
   "execution_count": null,
   "id": "90dcfd47",
   "metadata": {},
   "outputs": [],
   "source": [
    "fe1 = np.array([-500, -100,    0,   0])\n",
    "fe2 = np.array([-750, -625, -750, 625])"
   ]
  },
  {
   "cell_type": "code",
   "execution_count": null,
   "id": "8b9f1b90",
   "metadata": {},
   "outputs": [],
   "source": [
    "fe1, fe2"
   ]
  },
  {
   "cell_type": "markdown",
   "id": "10836c9a",
   "metadata": {},
   "source": [
    "### Assemble global stiffness matrix"
   ]
  },
  {
   "cell_type": "code",
   "execution_count": null,
   "id": "008c1c11",
   "metadata": {},
   "outputs": [],
   "source": [
    "K = np.zeros((6, 6))\n",
    "K[0:4,0:4] += Ke1\n",
    "K[2:6,2:6] += Ke2"
   ]
  },
  {
   "cell_type": "code",
   "execution_count": null,
   "id": "79e51068",
   "metadata": {},
   "outputs": [],
   "source": [
    "K"
   ]
  },
  {
   "cell_type": "markdown",
   "id": "f5db04ca",
   "metadata": {},
   "source": [
    "### Assemble global applied forces vector"
   ]
  },
  {
   "cell_type": "code",
   "execution_count": null,
   "id": "63bf78be",
   "metadata": {},
   "outputs": [],
   "source": [
    "fap = np.zeros(6)\n",
    "fap[0:4] += fe1\n",
    "fap[2:6] += fe2"
   ]
  },
  {
   "cell_type": "code",
   "execution_count": null,
   "id": "185a1ef2",
   "metadata": {},
   "outputs": [],
   "source": [
    "fap"
   ]
  },
  {
   "cell_type": "markdown",
   "id": "c624d22e",
   "metadata": {},
   "source": [
    "### Build condensed system"
   ]
  },
  {
   "cell_type": "code",
   "execution_count": null,
   "id": "6a07e1a6",
   "metadata": {},
   "outputs": [],
   "source": [
    "active_dof = [0, 1, 3]\n",
    "Kact = K[active_dof,:][:,active_dof]\n",
    "fact = fap[active_dof]"
   ]
  },
  {
   "cell_type": "code",
   "execution_count": null,
   "id": "e0f85893",
   "metadata": {},
   "outputs": [],
   "source": [
    "Kact, fact"
   ]
  },
  {
   "cell_type": "markdown",
   "id": "1ee04b80",
   "metadata": {},
   "source": [
    "### Solve for unknown displacements"
   ]
  },
  {
   "cell_type": "code",
   "execution_count": null,
   "id": "885c1f2d",
   "metadata": {},
   "outputs": [],
   "source": [
    "dact = np.linalg.solve(Kact, fact)"
   ]
  },
  {
   "cell_type": "code",
   "execution_count": null,
   "id": "4b9df6c1",
   "metadata": {},
   "outputs": [],
   "source": [
    "dact"
   ]
  },
  {
   "cell_type": "markdown",
   "id": "4862281b",
   "metadata": {},
   "source": [
    "### Build global displacement vector"
   ]
  },
  {
   "cell_type": "code",
   "execution_count": null,
   "id": "e82cf640",
   "metadata": {},
   "outputs": [],
   "source": [
    "d = np.zeros(6)\n",
    "d[active_dof] = dact"
   ]
  },
  {
   "cell_type": "code",
   "execution_count": null,
   "id": "a221d2fb",
   "metadata": {},
   "outputs": [],
   "source": [
    "d"
   ]
  },
  {
   "cell_type": "markdown",
   "id": "11f63cbf",
   "metadata": {},
   "source": [
    "### Compute total external forces"
   ]
  },
  {
   "cell_type": "code",
   "execution_count": null,
   "id": "32a8fabe",
   "metadata": {},
   "outputs": [],
   "source": [
    "fext = np.dot(K, d)"
   ]
  },
  {
   "cell_type": "code",
   "execution_count": null,
   "id": "b2e91bc7",
   "metadata": {},
   "outputs": [],
   "source": [
    "fext"
   ]
  },
  {
   "cell_type": "markdown",
   "id": "57eb8bd9",
   "metadata": {},
   "source": [
    "### Compute reaction forces"
   ]
  },
  {
   "cell_type": "code",
   "execution_count": null,
   "id": "e0a291ef",
   "metadata": {},
   "outputs": [],
   "source": [
    "freac = fext - fap"
   ]
  },
  {
   "cell_type": "code",
   "execution_count": null,
   "id": "39f49fa8",
   "metadata": {},
   "outputs": [],
   "source": [
    "freac"
   ]
  }
 ],
 "metadata": {
  "kernelspec": {
   "display_name": "Python 3 (ipykernel)",
   "language": "python",
   "name": "python3"
  },
  "language_info": {
   "codemirror_mode": {
    "name": "ipython",
    "version": 3
   },
   "file_extension": ".py",
   "mimetype": "text/x-python",
   "name": "python",
   "nbconvert_exporter": "python",
   "pygments_lexer": "ipython3",
   "version": "3.10.1"
  }
 },
 "nbformat": 4,
 "nbformat_minor": 5
}
